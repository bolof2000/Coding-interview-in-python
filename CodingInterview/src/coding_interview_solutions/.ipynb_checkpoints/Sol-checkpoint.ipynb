{
 "cells": [
  {
   "cell_type": "code",
   "execution_count": 1,
   "metadata": {},
   "outputs": [],
   "source": [
    "# check if a string has all unique elements\n",
    "#no duplicate elements\n",
    "\n",
    "def uniq_string(s):\n",
    "    \n",
    "    return len(set(s))== len(s)\n"
   ]
  },
  {
   "cell_type": "code",
   "execution_count": 2,
   "metadata": {},
   "outputs": [
    {
     "data": {
      "text/plain": [
       "False"
      ]
     },
     "execution_count": 2,
     "metadata": {},
     "output_type": "execute_result"
    }
   ],
   "source": [
    "uniq_string('bolofinde')"
   ]
  },
  {
   "cell_type": "code",
   "execution_count": 26,
   "metadata": {},
   "outputs": [],
   "source": [
    "# solution 2\n",
    "\n",
    "def uniq_string2(s):   \n",
    "    if s==None:\n",
    "        print(\"invalid\")\n",
    "    characters = set()\n",
    "    for letter in s:\n",
    "        if letter in characters:\n",
    "            return False\n",
    "        else:\n",
    "            characters.add(letter)\n",
    "            \n",
    "    return True"
   ]
  },
  {
   "cell_type": "code",
   "execution_count": 27,
   "metadata": {},
   "outputs": [
    {
     "data": {
      "text/plain": [
       "False"
      ]
     },
     "execution_count": 27,
     "metadata": {},
     "output_type": "execute_result"
    }
   ],
   "source": [
    "uniq_string2('bolofinde')"
   ]
  },
  {
   "cell_type": "code",
   "execution_count": 28,
   "metadata": {},
   "outputs": [
    {
     "data": {
      "text/plain": [
       "True"
      ]
     },
     "execution_count": 28,
     "metadata": {},
     "output_type": "execute_result"
    }
   ],
   "source": [
    "uniq_string2('b')"
   ]
  },
  {
   "cell_type": "code",
   "execution_count": 32,
   "metadata": {},
   "outputs": [
    {
     "ename": "TypeError",
     "evalue": "uniq_string2() takes exactly 1 argument (0 given)",
     "output_type": "error",
     "traceback": [
      "\u001b[0;31m---------------------------------------------------------------------------\u001b[0m",
      "\u001b[0;31mTypeError\u001b[0m                                 Traceback (most recent call last)",
      "\u001b[0;32m<ipython-input-32-019a1bf1f069>\u001b[0m in \u001b[0;36m<module>\u001b[0;34m()\u001b[0m\n\u001b[0;32m----> 1\u001b[0;31m \u001b[0muniq_string2\u001b[0m\u001b[0;34m(\u001b[0m\u001b[0;34m)\u001b[0m\u001b[0;34m\u001b[0m\u001b[0m\n\u001b[0m",
      "\u001b[0;31mTypeError\u001b[0m: uniq_string2() takes exactly 1 argument (0 given)"
     ]
    }
   ],
   "source": [
    "uniq_string2()"
   ]
  },
  {
   "cell_type": "code",
   "execution_count": 33,
   "metadata": {},
   "outputs": [],
   "source": [
    "#anagram solutions in python"
   ]
  },
  {
   "cell_type": "code",
   "execution_count": null,
   "metadata": {},
   "outputs": [],
   "source": []
  },
  {
   "cell_type": "code",
   "execution_count": 47,
   "metadata": {},
   "outputs": [],
   "source": [
    "def anagram(s1,s2):\n",
    "    #edge check\n",
    "    if len(s1) != len(s2):\n",
    "        return False\n",
    "    \n",
    "    # remove white spaces and lower all letters\n",
    "    \n",
    "    s1 = s1.replace(' ','').lower()\n",
    "    s2 = s2.replace(' ','').lower()\n",
    "    \n",
    "    dictionary = {}\n",
    "    for letter in s1:\n",
    "        if letter in dictionary:\n",
    "            dictionary[letter] +=1\n",
    "        else:\n",
    "            dictionary[letter] = 1\n",
    "            \n",
    "            print(dictionary)\n",
    "    for letter in s2:\n",
    "        if letter in dictionary:\n",
    "            dictionary[letter] -=1\n",
    "        else:\n",
    "            dictionary[letter] =1      \n",
    "            print(dictionary)\n",
    "            \n",
    "    for k in dictionary:\n",
    "        if dictionary[k] !=0:\n",
    "            return False\n",
    "        \n",
    "    return True"
   ]
  },
  {
   "cell_type": "code",
   "execution_count": 48,
   "metadata": {},
   "outputs": [
    {
     "data": {
      "text/plain": [
       "False"
      ]
     },
     "execution_count": 48,
     "metadata": {},
     "output_type": "execute_result"
    }
   ],
   "source": [
    "s1 = \"bolofinde olusegun\"\n",
    "s2 = \"adriel Bolofinde\"\n",
    "anagram(s1,s2)"
   ]
  },
  {
   "cell_type": "code",
   "execution_count": 52,
   "metadata": {},
   "outputs": [],
   "source": [
    "def dictt(s1):\n",
    "\n",
    "    dic = {}\n",
    "    \n",
    "    for letter in s1:\n",
    "        if letter in dic:\n",
    "            dic[letter] +=1\n",
    "        else:\n",
    "            dic[letter] =1\n",
    "            \n",
    "    print(dic)"
   ]
  },
  {
   "cell_type": "code",
   "execution_count": 56,
   "metadata": {},
   "outputs": [
    {
     "name": "stdout",
     "output_type": "stream",
     "text": [
      "{'b': 3, 'l': 1, 'o': 2, 'f': 1}\n"
     ]
    },
    {
     "ename": "TypeError",
     "evalue": "'function' object has no attribute '__getitem__'",
     "output_type": "error",
     "traceback": [
      "\u001b[0;31m--------------------------------------------------------------\u001b[0m",
      "\u001b[0;31mTypeError\u001b[0m                    Traceback (most recent call last)",
      "\u001b[0;32m<ipython-input-56-0b1aa43fef5a>\u001b[0m in \u001b[0;36m<module>\u001b[0;34m()\u001b[0m\n\u001b[1;32m      1\u001b[0m \u001b[0mdictt\u001b[0m\u001b[0;34m(\u001b[0m\u001b[0;34m\"bbbolof\"\u001b[0m\u001b[0;34m)\u001b[0m\u001b[0;34m\u001b[0m\u001b[0m\n\u001b[0;32m----> 2\u001b[0;31m \u001b[0;32mprint\u001b[0m\u001b[0;34m(\u001b[0m\u001b[0mdic\u001b[0m\u001b[0;34m[\u001b[0m\u001b[0;34m'b'\u001b[0m\u001b[0;34m]\u001b[0m\u001b[0;34m)\u001b[0m\u001b[0;34m\u001b[0m\u001b[0m\n\u001b[0m",
      "\u001b[0;31mTypeError\u001b[0m: 'function' object has no attribute '__getitem__'"
     ]
    }
   ],
   "source": [
    "dictt(\"bbbolof\")"
   ]
  },
  {
   "cell_type": "code",
   "execution_count": 57,
   "metadata": {},
   "outputs": [
    {
     "ename": "TypeError",
     "evalue": "'function' object has no attribute '__getitem__'",
     "output_type": "error",
     "traceback": [
      "\u001b[0;31m--------------------------------------------------------------\u001b[0m",
      "\u001b[0;31mTypeError\u001b[0m                    Traceback (most recent call last)",
      "\u001b[0;32m<ipython-input-57-d69e7757547a>\u001b[0m in \u001b[0;36m<module>\u001b[0;34m()\u001b[0m\n\u001b[0;32m----> 1\u001b[0;31m \u001b[0;32mprint\u001b[0m\u001b[0;34m(\u001b[0m\u001b[0mdic\u001b[0m\u001b[0;34m[\u001b[0m\u001b[0;34m'b'\u001b[0m\u001b[0;34m]\u001b[0m\u001b[0;34m)\u001b[0m\u001b[0;34m\u001b[0m\u001b[0m\n\u001b[0m",
      "\u001b[0;31mTypeError\u001b[0m: 'function' object has no attribute '__getitem__'"
     ]
    }
   ],
   "source": [
    "print(dic['b'])"
   ]
  },
  {
   "cell_type": "code",
   "execution_count": 58,
   "metadata": {},
   "outputs": [],
   "source": [
    "# sentense reversal "
   ]
  },
  {
   "cell_type": "code",
   "execution_count": 59,
   "metadata": {},
   "outputs": [],
   "source": [
    "def sentense_rev(string):\n",
    "    \n",
    "    final_reversed_words = []\n",
    "    length = len(string)\n",
    "    i = 0\n",
    "    spaces = [' ']\n",
    "    \n",
    "    while i < length:\n",
    "        \n",
    "        begin_words = i\n",
    "        \n",
    "        while i < length and s[i] not in spaces:\n",
    "            \n",
    "            i +=1\n",
    "            \n",
    "            final_reversed_words.append(s[begin_words:i])\n",
    "            \n",
    "        i +=1\n",
    "        \n",
    "    return \" \".join(reversed(final_reversed_words))\n",
    "    "
   ]
  },
  {
   "cell_type": "code",
   "execution_count": 60,
   "metadata": {},
   "outputs": [],
   "source": [
    "# string compression"
   ]
  },
  {
   "cell_type": "code",
   "execution_count": 80,
   "metadata": {},
   "outputs": [],
   "source": [
    "def compression(string):\n",
    "    \n",
    "    r = \"\"\n",
    "    length = len(string)\n",
    "    \n",
    "    count =0\n",
    "    \n",
    "    for i in range(0,len(string)):\n",
    "        if string[i] == string[i-1]:\n",
    "            count +=1\n",
    "            print(count)\n",
    "            \n",
    "        else:\n",
    "            r = r+string[i-1]+str(count)\n",
    "            print(r)\n",
    "            \n",
    "    r = r+string[i-1]+str(count)\n",
    "    print(r)\n",
    "    \n",
    "    return r"
   ]
  },
  {
   "cell_type": "code",
   "execution_count": 79,
   "metadata": {},
   "outputs": [
    {
     "name": "stdout",
     "output_type": "stream",
     "text": [
      "d1\n",
      "2\n",
      "d1a2\n",
      "3\n",
      "d1a2b3\n",
      "4\n",
      "d1a2b3C4\n",
      "5\n",
      "d1a2b3C4d5\n"
     ]
    },
    {
     "data": {
      "text/plain": [
       "'d1a2b3C4d5'"
      ]
     },
     "execution_count": 79,
     "metadata": {},
     "output_type": "execute_result"
    }
   ],
   "source": [
    "compression(\"aabbCCdd\")"
   ]
  },
  {
   "cell_type": "code",
   "execution_count": 108,
   "metadata": {},
   "outputs": [],
   "source": [
    "def compression(string):\n",
    "    \n",
    "    l = len(string)\n",
    "    r = \"\"\n",
    "    count = 1\n",
    "    \n",
    "    i = 1\n",
    "    \n",
    "    if len(string) == 1:\n",
    "        return string+\"1\"\n",
    "    if string == None:\n",
    "        print(\"string required\")\n",
    "    \n",
    "    while i < l:\n",
    "        if string[i] == string[i-1]:\n",
    "            count +=1\n",
    "            #print(count)\n",
    "        else:\n",
    "            \n",
    "            r = r+string[i-i]+str(count)\n",
    "            count =1 \n",
    "            #print(r)\n",
    "            \n",
    "        i +=1\n",
    "        \n",
    "    r = r+string[i-1]+str(count)\n",
    "    #print(r)\n",
    "    \n",
    "    return r \n",
    "            \n",
    "    \n",
    "        "
   ]
  },
  {
   "cell_type": "code",
   "execution_count": 109,
   "metadata": {},
   "outputs": [
    {
     "data": {
      "text/plain": [
       "'a2a2a2a2a1t1'"
      ]
     },
     "execution_count": 109,
     "metadata": {},
     "output_type": "execute_result"
    }
   ],
   "source": [
    "compression(\"aaAAbbBBct\")"
   ]
  },
  {
   "cell_type": "code",
   "execution_count": 99,
   "metadata": {},
   "outputs": [],
   "source": [
    "def comp(s):\n",
    "    r = \"\"\n",
    "    l = len(s)\n",
    "    if l==0:\n",
    "        return \"\"\n",
    "    \n",
    "    if l==1:\n",
    "        return s+\"1\"\n",
    "    \n",
    "    count = 1\n",
    "    i = 1\n",
    "    while i <l:\n",
    "        \n",
    "        if s[i] == s[i-1]:\n",
    "            count +=1\n",
    "        else:\n",
    "            r = r+s[i-1]+str(count)\n",
    "            #r = r+str(count)+s[i-1]\n",
    "            \n",
    "            count = 1\n",
    "            \n",
    "        i +=1\n",
    "        \n",
    "        \n",
    "    r = r+s[i-1]+str(count)\n",
    "    \n",
    "    return r"
   ]
  },
  {
   "cell_type": "code",
   "execution_count": 112,
   "metadata": {},
   "outputs": [
    {
     "data": {
      "text/plain": [
       "''"
      ]
     },
     "execution_count": 112,
     "metadata": {},
     "output_type": "execute_result"
    }
   ],
   "source": [
    "comp('')"
   ]
  },
  {
   "cell_type": "code",
   "execution_count": null,
   "metadata": {},
   "outputs": [],
   "source": [
    "def unique_char(s):\n",
    "    "
   ]
  }
 ],
 "metadata": {
  "kernelspec": {
   "display_name": "Python 2",
   "language": "python",
   "name": "python2"
  },
  "language_info": {
   "codemirror_mode": {
    "name": "ipython",
    "version": 2
   },
   "file_extension": ".py",
   "mimetype": "text/x-python",
   "name": "python",
   "nbconvert_exporter": "python",
   "pygments_lexer": "ipython2",
   "version": "2.7.15"
  }
 },
 "nbformat": 4,
 "nbformat_minor": 2
}
