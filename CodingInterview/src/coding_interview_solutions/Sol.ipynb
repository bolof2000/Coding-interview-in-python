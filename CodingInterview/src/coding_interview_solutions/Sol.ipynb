{
 "cells": [
  {
   "cell_type": "code",
   "execution_count": 1,
   "metadata": {},
   "outputs": [],
   "source": [
    "# check if a string has all unique elements\n",
    "#no duplicate elements\n",
    "\n",
    "def uniq_string(s):\n",
    "    \n",
    "    return len(set(s))== len(s)\n"
   ]
  },
  {
   "cell_type": "code",
   "execution_count": 2,
   "metadata": {},
   "outputs": [
    {
     "data": {
      "text/plain": [
       "False"
      ]
     },
     "execution_count": 2,
     "metadata": {},
     "output_type": "execute_result"
    }
   ],
   "source": [
    "uniq_string('bolofinde')"
   ]
  },
  {
   "cell_type": "code",
   "execution_count": 26,
   "metadata": {},
   "outputs": [],
   "source": [
    "# solution 2\n",
    "\n",
    "def uniq_string2(s):   \n",
    "    if s==None:\n",
    "        print(\"invalid\")\n",
    "    characters = set()\n",
    "    for letter in s:\n",
    "        if letter in characters:\n",
    "            return False\n",
    "        else:\n",
    "            characters.add(letter)\n",
    "            \n",
    "    return True"
   ]
  },
  {
   "cell_type": "code",
   "execution_count": 27,
   "metadata": {},
   "outputs": [
    {
     "data": {
      "text/plain": [
       "False"
      ]
     },
     "execution_count": 27,
     "metadata": {},
     "output_type": "execute_result"
    }
   ],
   "source": [
    "uniq_string2('bolofinde')"
   ]
  },
  {
   "cell_type": "code",
   "execution_count": 28,
   "metadata": {},
   "outputs": [
    {
     "data": {
      "text/plain": [
       "True"
      ]
     },
     "execution_count": 28,
     "metadata": {},
     "output_type": "execute_result"
    }
   ],
   "source": [
    "uniq_string2('b')"
   ]
  },
  {
   "cell_type": "code",
   "execution_count": 32,
   "metadata": {},
   "outputs": [
    {
     "ename": "TypeError",
     "evalue": "uniq_string2() takes exactly 1 argument (0 given)",
     "output_type": "error",
     "traceback": [
      "\u001b[0;31m---------------------------------------------------------------------------\u001b[0m",
      "\u001b[0;31mTypeError\u001b[0m                                 Traceback (most recent call last)",
      "\u001b[0;32m<ipython-input-32-019a1bf1f069>\u001b[0m in \u001b[0;36m<module>\u001b[0;34m()\u001b[0m\n\u001b[0;32m----> 1\u001b[0;31m \u001b[0muniq_string2\u001b[0m\u001b[0;34m(\u001b[0m\u001b[0;34m)\u001b[0m\u001b[0;34m\u001b[0m\u001b[0m\n\u001b[0m",
      "\u001b[0;31mTypeError\u001b[0m: uniq_string2() takes exactly 1 argument (0 given)"
     ]
    }
   ],
   "source": [
    "uniq_string2()"
   ]
  },
  {
   "cell_type": "code",
   "execution_count": 33,
   "metadata": {},
   "outputs": [],
   "source": [
    "#anagram solutions in python"
   ]
  },
  {
   "cell_type": "code",
   "execution_count": null,
   "metadata": {},
   "outputs": [],
   "source": []
  },
  {
   "cell_type": "code",
   "execution_count": 47,
   "metadata": {},
   "outputs": [],
   "source": [
    "def anagram(s1,s2):\n",
    "    #edge check\n",
    "    if len(s1) != len(s2):\n",
    "        return False\n",
    "    \n",
    "    # remove white spaces and lower all letters\n",
    "    \n",
    "    s1 = s1.replace(' ','').lower()\n",
    "    s2 = s2.replace(' ','').lower()\n",
    "    \n",
    "    dictionary = {}\n",
    "    for letter in s1:\n",
    "        if letter in dictionary:\n",
    "            dictionary[letter] +=1\n",
    "        else:\n",
    "            dictionary[letter] = 1\n",
    "            \n",
    "            print(dictionary)\n",
    "    for letter in s2:\n",
    "        if letter in dictionary:\n",
    "            dictionary[letter] -=1\n",
    "        else:\n",
    "            dictionary[letter] =1      \n",
    "            print(dictionary)\n",
    "            \n",
    "    for k in dictionary:\n",
    "        if dictionary[k] !=0:\n",
    "            return False\n",
    "        \n",
    "    return True"
   ]
  },
  {
   "cell_type": "code",
   "execution_count": 48,
   "metadata": {},
   "outputs": [
    {
     "data": {
      "text/plain": [
       "False"
      ]
     },
     "execution_count": 48,
     "metadata": {},
     "output_type": "execute_result"
    }
   ],
   "source": [
    "s1 = \"bolofinde olusegun\"\n",
    "s2 = \"adriel Bolofinde\"\n",
    "anagram(s1,s2)"
   ]
  },
  {
   "cell_type": "code",
   "execution_count": 52,
   "metadata": {},
   "outputs": [],
   "source": [
    "def dictt(s1):\n",
    "\n",
    "    dic = {}\n",
    "    \n",
    "    for letter in s1:\n",
    "        if letter in dic:\n",
    "            dic[letter] +=1\n",
    "        else:\n",
    "            dic[letter] =1\n",
    "            \n",
    "    print(dic)"
   ]
  },
  {
   "cell_type": "code",
   "execution_count": 56,
   "metadata": {},
   "outputs": [
    {
     "name": "stdout",
     "output_type": "stream",
     "text": [
      "{'b': 3, 'l': 1, 'o': 2, 'f': 1}\n"
     ]
    },
    {
     "ename": "TypeError",
     "evalue": "'function' object has no attribute '__getitem__'",
     "output_type": "error",
     "traceback": [
      "\u001b[0;31m--------------------------------------------------------------\u001b[0m",
      "\u001b[0;31mTypeError\u001b[0m                    Traceback (most recent call last)",
      "\u001b[0;32m<ipython-input-56-0b1aa43fef5a>\u001b[0m in \u001b[0;36m<module>\u001b[0;34m()\u001b[0m\n\u001b[1;32m      1\u001b[0m \u001b[0mdictt\u001b[0m\u001b[0;34m(\u001b[0m\u001b[0;34m\"bbbolof\"\u001b[0m\u001b[0;34m)\u001b[0m\u001b[0;34m\u001b[0m\u001b[0m\n\u001b[0;32m----> 2\u001b[0;31m \u001b[0;32mprint\u001b[0m\u001b[0;34m(\u001b[0m\u001b[0mdic\u001b[0m\u001b[0;34m[\u001b[0m\u001b[0;34m'b'\u001b[0m\u001b[0;34m]\u001b[0m\u001b[0;34m)\u001b[0m\u001b[0;34m\u001b[0m\u001b[0m\n\u001b[0m",
      "\u001b[0;31mTypeError\u001b[0m: 'function' object has no attribute '__getitem__'"
     ]
    }
   ],
   "source": [
    "dictt(\"bbbolof\")"
   ]
  },
  {
   "cell_type": "code",
   "execution_count": 57,
   "metadata": {},
   "outputs": [
    {
     "ename": "TypeError",
     "evalue": "'function' object has no attribute '__getitem__'",
     "output_type": "error",
     "traceback": [
      "\u001b[0;31m--------------------------------------------------------------\u001b[0m",
      "\u001b[0;31mTypeError\u001b[0m                    Traceback (most recent call last)",
      "\u001b[0;32m<ipython-input-57-d69e7757547a>\u001b[0m in \u001b[0;36m<module>\u001b[0;34m()\u001b[0m\n\u001b[0;32m----> 1\u001b[0;31m \u001b[0;32mprint\u001b[0m\u001b[0;34m(\u001b[0m\u001b[0mdic\u001b[0m\u001b[0;34m[\u001b[0m\u001b[0;34m'b'\u001b[0m\u001b[0;34m]\u001b[0m\u001b[0;34m)\u001b[0m\u001b[0;34m\u001b[0m\u001b[0m\n\u001b[0m",
      "\u001b[0;31mTypeError\u001b[0m: 'function' object has no attribute '__getitem__'"
     ]
    }
   ],
   "source": [
    "print(dic['b'])"
   ]
  },
  {
   "cell_type": "code",
   "execution_count": 58,
   "metadata": {},
   "outputs": [],
   "source": [
    "# sentense reversal "
   ]
  },
  {
   "cell_type": "code",
   "execution_count": 59,
   "metadata": {},
   "outputs": [],
   "source": [
    "def sentense_rev(string):\n",
    "    \n",
    "    final_reversed_words = []\n",
    "    length = len(string)\n",
    "    i = 0\n",
    "    spaces = [' ']\n",
    "    \n",
    "    while i < length:\n",
    "        \n",
    "        begin_words = i\n",
    "        \n",
    "        while i < length and s[i] not in spaces:\n",
    "            \n",
    "            i +=1\n",
    "            \n",
    "            final_reversed_words.append(s[begin_words:i])\n",
    "            \n",
    "        i +=1\n",
    "        \n",
    "    return \" \".join(reversed(final_reversed_words))\n",
    "    "
   ]
  },
  {
   "cell_type": "code",
   "execution_count": 60,
   "metadata": {},
   "outputs": [],
   "source": [
    "# string compression"
   ]
  },
  {
   "cell_type": "code",
   "execution_count": 80,
   "metadata": {},
   "outputs": [],
   "source": [
    "def compression(string):\n",
    "    \n",
    "    r = \"\"\n",
    "    length = len(string)\n",
    "    \n",
    "    count =0\n",
    "    \n",
    "    for i in range(0,len(string)):\n",
    "        if string[i] == string[i-1]:\n",
    "            count +=1\n",
    "            print(count)\n",
    "            \n",
    "        else:\n",
    "            r = r+string[i-1]+str(count)\n",
    "            print(r)\n",
    "            \n",
    "    r = r+string[i-1]+str(count)\n",
    "    print(r)\n",
    "    \n",
    "    return r"
   ]
  },
  {
   "cell_type": "code",
   "execution_count": 79,
   "metadata": {},
   "outputs": [
    {
     "name": "stdout",
     "output_type": "stream",
     "text": [
      "d1\n",
      "2\n",
      "d1a2\n",
      "3\n",
      "d1a2b3\n",
      "4\n",
      "d1a2b3C4\n",
      "5\n",
      "d1a2b3C4d5\n"
     ]
    },
    {
     "data": {
      "text/plain": [
       "'d1a2b3C4d5'"
      ]
     },
     "execution_count": 79,
     "metadata": {},
     "output_type": "execute_result"
    }
   ],
   "source": [
    "compression(\"aabbCCdd\")"
   ]
  },
  {
   "cell_type": "code",
   "execution_count": 108,
   "metadata": {},
   "outputs": [],
   "source": [
    "def compression(string):\n",
    "    \n",
    "    l = len(string)\n",
    "    r = \"\"\n",
    "    count = 1\n",
    "    \n",
    "    i = 1\n",
    "    \n",
    "    if len(string) == 1:\n",
    "        return string+\"1\"\n",
    "    if string == None:\n",
    "        print(\"string required\")\n",
    "    \n",
    "    while i < l:\n",
    "        if string[i] == string[i-1]:\n",
    "            count +=1\n",
    "            #print(count)\n",
    "        else:\n",
    "            \n",
    "            r = r+string[i-i]+str(count)\n",
    "            count =1 \n",
    "            #print(r)\n",
    "            \n",
    "        i +=1\n",
    "        \n",
    "    r = r+string[i-1]+str(count)\n",
    "    #print(r)\n",
    "    \n",
    "    return r \n",
    "            \n",
    "    \n",
    "        "
   ]
  },
  {
   "cell_type": "code",
   "execution_count": 109,
   "metadata": {},
   "outputs": [
    {
     "data": {
      "text/plain": [
       "'a2a2a2a2a1t1'"
      ]
     },
     "execution_count": 109,
     "metadata": {},
     "output_type": "execute_result"
    }
   ],
   "source": [
    "compression(\"aaAAbbBBct\")"
   ]
  },
  {
   "cell_type": "code",
   "execution_count": 99,
   "metadata": {},
   "outputs": [],
   "source": [
    "def comp(s):\n",
    "    r = \"\"\n",
    "    l = len(s)\n",
    "    if l==0:\n",
    "        return \"\"\n",
    "    \n",
    "    if l==1:\n",
    "        return s+\"1\"\n",
    "    \n",
    "    count = 1\n",
    "    i = 1\n",
    "    while i <l:\n",
    "        \n",
    "        if s[i] == s[i-1]:\n",
    "            count +=1\n",
    "        else:\n",
    "            r = r+s[i-1]+str(count)\n",
    "            #r = r+str(count)+s[i-1]\n",
    "            \n",
    "            count = 1\n",
    "            \n",
    "        i +=1\n",
    "        \n",
    "        \n",
    "    r = r+s[i-1]+str(count)\n",
    "    \n",
    "    return r"
   ]
  },
  {
   "cell_type": "code",
   "execution_count": 112,
   "metadata": {},
   "outputs": [
    {
     "data": {
      "text/plain": [
       "''"
      ]
     },
     "execution_count": 112,
     "metadata": {},
     "output_type": "execute_result"
    }
   ],
   "source": [
    "comp('')"
   ]
  },
  {
   "cell_type": "code",
   "execution_count": 120,
   "metadata": {},
   "outputs": [],
   "source": [
    "def unique_char(s):\n",
    "    if len(s) ==0:\n",
    "        return\n",
    "    \n",
    "    if len(s) == 1:\n",
    "        return True\n",
    "    \n",
    "    dic = {}\n",
    "    \n",
    "    for letter in s:\n",
    "        if letter in dic:\n",
    "            dic[letter] =1\n",
    "        else:\n",
    "            dic[letter] +=1\n",
    "            \n",
    "        for k in dic:\n",
    "            if dic[k] >1:\n",
    "                return False\n",
    "    \n",
    "    \n",
    "    return True \n",
    "        \n",
    "    "
   ]
  },
  {
   "cell_type": "code",
   "execution_count": 122,
   "metadata": {},
   "outputs": [
    {
     "data": {
      "text/plain": [
       "True"
      ]
     },
     "execution_count": 122,
     "metadata": {},
     "output_type": "execute_result"
    }
   ],
   "source": [
    "uniq_string(\"bol\")"
   ]
  },
  {
   "cell_type": "code",
   "execution_count": 123,
   "metadata": {},
   "outputs": [],
   "source": [
    "def uniq_ch(s):\n",
    "    \n",
    "    set_seen = ()\n",
    "     return len(s)== len(set(s))\n",
    "    \n",
    "    for letter in s:\n",
    "        \n",
    "        if letter not in set_seen:\n",
    "            set_seen.add(letter)\n",
    "        else:\n",
    "            return False\n",
    "        \n",
    "    return True"
   ]
  },
  {
   "cell_type": "code",
   "execution_count": 130,
   "metadata": {},
   "outputs": [],
   "source": [
    "def most_frequent_number(num):\n",
    "    \n",
    "    max_count = -1\n",
    "    max_num = None\n",
    "    \n",
    "    dic = {}\n",
    "    if len(num)==0:\n",
    "        return None\n",
    "    for i in num:\n",
    "        if i in dic:\n",
    "            dic[i] +=1\n",
    "        else:\n",
    "            dic[i] =1\n",
    "        if dic[i] > max_count:\n",
    "            max_count = dic[i]\n",
    "            max_num = i\n",
    "        \n",
    "    return max_num\n",
    "    "
   ]
  },
  {
   "cell_type": "code",
   "execution_count": 131,
   "metadata": {},
   "outputs": [
    {
     "data": {
      "text/plain": [
       "1"
      ]
     },
     "execution_count": 131,
     "metadata": {},
     "output_type": "execute_result"
    }
   ],
   "source": [
    "num = [1,2,3,2,3,1,1,1]\n",
    "most_frequent_number(num)"
   ]
  },
  {
   "cell_type": "code",
   "execution_count": 148,
   "metadata": {},
   "outputs": [],
   "source": [
    "def common_element(arr1,arr2):\n",
    "    result = []\n",
    "    for i in range(0,len(arr1)):\n",
    "        for j in range(0,len(arr2)):\n",
    "            if arr1[i]== arr2[j]:\n",
    "                result.append(arr1[i])\n",
    "                \n",
    "    return result"
   ]
  },
  {
   "cell_type": "code",
   "execution_count": 149,
   "metadata": {},
   "outputs": [
    {
     "data": {
      "text/plain": [
       "[1, 4, 9]"
      ]
     },
     "execution_count": 149,
     "metadata": {},
     "output_type": "execute_result"
    }
   ],
   "source": [
    "arr1 = [1,3,4,6,7,9]\n",
    "arr2 = [1,2,4,5,9,10]\n",
    "common_element(arr1,arr2)"
   ]
  },
  {
   "cell_type": "code",
   "execution_count": 147,
   "metadata": {},
   "outputs": [],
   "source": [
    "def common2(arr1,arr2):\n",
    "    dic = {}\n",
    "    result = []\n",
    "    for i in arr1:\n",
    "        if i in dic:\n",
    "            dic[i] +=1\n",
    "        else:\n",
    "            dic[i] = 1\n",
    "    for j in arr2:\n",
    "        if j in dic:\n",
    "            result.append(j)\n",
    "            \n",
    "    return result"
   ]
  },
  {
   "cell_type": "code",
   "execution_count": null,
   "metadata": {},
   "outputs": [],
   "source": [
    "arr1 = [1,3,4,6,7,9]\n",
    "arr2 = [1,2,4,5,9,10]\n"
   ]
  },
  {
   "cell_type": "code",
   "execution_count": 140,
   "metadata": {},
   "outputs": [
    {
     "data": {
      "text/plain": [
       "[1, 4, 9]"
      ]
     },
     "execution_count": 140,
     "metadata": {},
     "output_type": "execute_result"
    }
   ],
   "source": [
    "arr1 = [1,3,4,6,7,9]\n",
    "arr2 = [1,2,4,5,9,10]\n",
    "common2(arr1,arr2)"
   ]
  },
  {
   "cell_type": "code",
   "execution_count": 150,
   "metadata": {},
   "outputs": [],
   "source": [
    "def common3(arr1,arr2):\n",
    "    p1 = 0\n",
    "    p2 = 0\n",
    "    result = []\n",
    "    \n",
    "    while p1<len(arr1) and p2<len(arr2):\n",
    "        if arr1[p1] == arr2[p2]:\n",
    "            result.append(arr[p1])\n",
    "            p1 +=1\n",
    "            p2 +=1\n",
    "        elif arr1[p1] > arr2[p2]:\n",
    "            p2 +=1\n",
    "            \n",
    "        else:\n",
    "            p1 +=1\n",
    "    return result\n",
    "        "
   ]
  },
  {
   "cell_type": "code",
   "execution_count": 155,
   "metadata": {},
   "outputs": [],
   "source": [
    "def non_repeating_char(char):\n",
    "    counts = {}\n",
    "    for i in char:\n",
    "        if i in counts:\n",
    "            counts[i] +=1\n",
    "        else:\n",
    "            counts[i] =1\n",
    "    for i in char:\n",
    "        if counts[i] ==1:\n",
    "            return i\n",
    "    return None"
   ]
  },
  {
   "cell_type": "code",
   "execution_count": 161,
   "metadata": {},
   "outputs": [
    {
     "data": {
      "text/plain": [
       "'d'"
      ]
     },
     "execution_count": 161,
     "metadata": {},
     "output_type": "execute_result"
    }
   ],
   "source": [
    "non_repeatikng_char(\"aabbdbcc\")"
   ]
  },
  {
   "cell_type": "code",
   "execution_count": null,
   "metadata": {},
   "outputs": [],
   "source": [
    "import unittest"
   ]
  },
  {
   "cell_type": "code",
   "execution_count": 162,
   "metadata": {},
   "outputs": [],
   "source": [
    "def add(x,y):\n",
    "    return x+y\n",
    "\n",
    "\n",
    "def substract(x,y):\n",
    "    return x-y\n",
    "\n",
    "def mul(x,y):\n",
    "    return x*y\n",
    "\n",
    "def div(x,y):\n",
    "    if y==0:\n",
    "        raise ValueError(\"can not divide by zero\")\n",
    "    return x/y"
   ]
  },
  {
   "cell_type": "code",
   "execution_count": 163,
   "metadata": {},
   "outputs": [
    {
     "ename": "NameError",
     "evalue": "name 'unittest' is not defined",
     "output_type": "error",
     "traceback": [
      "\u001b[0;31m---------------------------------------------------------------------------\u001b[0m",
      "\u001b[0;31mNameError\u001b[0m                                 Traceback (most recent call last)",
      "\u001b[0;32m<ipython-input-163-9b35f1f7d800>\u001b[0m in \u001b[0;36m<module>\u001b[0;34m()\u001b[0m\n\u001b[0;32m----> 1\u001b[0;31m \u001b[0;32mclass\u001b[0m \u001b[0mTestCommon3\u001b[0m\u001b[0;34m(\u001b[0m\u001b[0munittest\u001b[0m\u001b[0;34m.\u001b[0m\u001b[0mTestCase\u001b[0m\u001b[0;34m)\u001b[0m\u001b[0;34m:\u001b[0m\u001b[0;34m\u001b[0m\u001b[0m\n\u001b[0m\u001b[1;32m      2\u001b[0m \u001b[0;34m\u001b[0m\u001b[0m\n\u001b[1;32m      3\u001b[0m     \u001b[0;32mdef\u001b[0m \u001b[0mtest_common3\u001b[0m\u001b[0;34m(\u001b[0m\u001b[0mself\u001b[0m\u001b[0;34m)\u001b[0m\u001b[0;34m:\u001b[0m\u001b[0;34m\u001b[0m\u001b[0m\n\u001b[1;32m      4\u001b[0m         \u001b[0ms\u001b[0m\u001b[0;34m\u001b[0m\u001b[0m\n",
      "\u001b[0;31mNameError\u001b[0m: name 'unittest' is not defined"
     ]
    }
   ],
   "source": [
    "class TestCommon3(unittest.TestCase):\n",
    "    \n",
    "    def test_common3(self):\n",
    "        s"
   ]
  },
  {
   "cell_type": "code",
   "execution_count": 164,
   "metadata": {},
   "outputs": [
    {
     "name": "stdout",
     "output_type": "stream",
     "text": [
      "[1, 5]\n"
     ]
    }
   ],
   "source": [
    "num = []\n",
    "num.insert(0,1)\n",
    "num.insert(1,5)\n",
    "print(num)"
   ]
  },
  {
   "cell_type": "code",
   "execution_count": 165,
   "metadata": {},
   "outputs": [],
   "source": [
    "nums = [2,3,1,5,6,4]\n",
    "nums.sort()"
   ]
  },
  {
   "cell_type": "code",
   "execution_count": 166,
   "metadata": {},
   "outputs": [
    {
     "name": "stdout",
     "output_type": "stream",
     "text": [
      "[1, 2, 3, 4, 5, 6]\n"
     ]
    }
   ],
   "source": [
    "print(nums)"
   ]
  },
  {
   "cell_type": "code",
   "execution_count": 167,
   "metadata": {},
   "outputs": [
    {
     "name": "stdout",
     "output_type": "stream",
     "text": [
      "[2, 3, 4, 5, 6]\n"
     ]
    }
   ],
   "source": [
    "print(nums[1:])"
   ]
  },
  {
   "cell_type": "code",
   "execution_count": 168,
   "metadata": {},
   "outputs": [
    {
     "name": "stdout",
     "output_type": "stream",
     "text": [
      "[3, 4]\n"
     ]
    }
   ],
   "source": [
    "print(nums[2:4])"
   ]
  },
  {
   "cell_type": "code",
   "execution_count": 169,
   "metadata": {},
   "outputs": [
    {
     "data": {
      "text/plain": [
       "1"
      ]
     },
     "execution_count": 169,
     "metadata": {},
     "output_type": "execute_result"
    }
   ],
   "source": [
    "nums.count(1)"
   ]
  },
  {
   "cell_type": "code",
   "execution_count": 170,
   "metadata": {},
   "outputs": [],
   "source": [
    "d = {2:3, 1:89, 4:5, 3:0}"
   ]
  },
  {
   "cell_type": "code",
   "execution_count": 171,
   "metadata": {},
   "outputs": [],
   "source": [
    "sd= sorted(d.items())"
   ]
  },
  {
   "cell_type": "code",
   "execution_count": 172,
   "metadata": {},
   "outputs": [
    {
     "name": "stdout",
     "output_type": "stream",
     "text": [
      "(1, 89)\n",
      "(2, 3)\n",
      "(3, 0)\n",
      "(4, 5)\n"
     ]
    }
   ],
   "source": [
    "for k,v in sd:\n",
    "    print(k,v)"
   ]
  },
  {
   "cell_type": "code",
   "execution_count": 196,
   "metadata": {},
   "outputs": [],
   "source": [
    "def first_duplicate(arr):\n",
    "    dic = {}\n",
    "    for letter in arr:\n",
    "        if letter in dic:\n",
    "            dic[letter] +=1\n",
    "        else:\n",
    "            dic[letter] =1\n",
    "    \n",
    "    dic_sr = sorted(dic.items())\n",
    "    \n",
    "    for k in dic_sr:\n",
    "        print(k)"
   ]
  },
  {
   "cell_type": "code",
   "execution_count": 197,
   "metadata": {},
   "outputs": [
    {
     "name": "stdout",
     "output_type": "stream",
     "text": [
      "('b', 1)\n",
      "('d', 1)\n",
      "('e', 1)\n",
      "('f', 1)\n",
      "('i', 1)\n",
      "('l', 1)\n",
      "('n', 1)\n",
      "('o', 2)\n"
     ]
    }
   ],
   "source": [
    "s = \"bolofinde\"\n",
    "first_duplicate(s)"
   ]
  },
  {
   "cell_type": "code",
   "execution_count": 193,
   "metadata": {},
   "outputs": [
    {
     "name": "stdout",
     "output_type": "stream",
     "text": [
      "1\n"
     ]
    }
   ],
   "source": [
    "print(list(num)[0])"
   ]
  },
  {
   "cell_type": "code",
   "execution_count": null,
   "metadata": {},
   "outputs": [],
   "source": []
  }
 ],
 "metadata": {
  "kernelspec": {
   "display_name": "Python 2",
   "language": "python",
   "name": "python2"
  },
  "language_info": {
   "codemirror_mode": {
    "name": "ipython",
    "version": 2
   },
   "file_extension": ".py",
   "mimetype": "text/x-python",
   "name": "python",
   "nbconvert_exporter": "python",
   "pygments_lexer": "ipython2",
   "version": "2.7.15"
  }
 },
 "nbformat": 4,
 "nbformat_minor": 2
}
